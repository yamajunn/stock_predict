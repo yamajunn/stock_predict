{
 "cells": [
  {
   "cell_type": "code",
   "execution_count": 9,
   "metadata": {},
   "outputs": [],
   "source": [
    "import yfinance as yf\n",
    "import pandas as pd\n",
    "import os"
   ]
  },
  {
   "cell_type": "markdown",
   "metadata": {},
   "source": [
    "# 株価データ"
   ]
  },
  {
   "cell_type": "code",
   "execution_count": 3,
   "metadata": {},
   "outputs": [],
   "source": [
    "# Apple関連の銘柄リスト\n",
    "tickers = [\n",
    "    \"AAPL\",  # Apple\n",
    "    \"MSFT\",  # Microsoft\n",
    "    \"GOOGL\", # Alphabet (Google)\n",
    "    \"AMZN\",  # Amazon\n",
    "    \"META\",  # Meta Platforms (Facebook)\n",
    "    \"SONY\",  # Sony\n",
    "    \"6758.T\", # Sony (Tokyo Stock Exchange)\n",
    "    # \"TSMC\",  # Taiwan Semiconductor Manufacturing Company\n",
    "    \"2330.TW\", # TSMC (Taiwan)\n",
    "    \"QCOM\",  # Qualcomm\n",
    "    \"AVGO\",  # Broadcom\n",
    "    \"005930.KS\", # Samsung Electronics (Korea)\n",
    "    \"GLW\",   # Corning\n",
    "    \"2317.TW\", # Foxconn (Hon Hai Precision)\n",
    "    \"002475.SZ\", # Luxshare Precision\n",
    "    \"BABA\",  # Alibaba (China)\n",
    "    \"1810.HK\", # Xiaomi (Hong Kong)\n",
    "    \"BBY\",   # Best Buy\n",
    "    \"WMT\",   # Walmart\n",
    "    \"SPY\",   # S&P 500 ETF (for market-wide trends)\n",
    "    \"QQQ\",   # Nasdaq 100 ETF\n",
    "    \"VGT\",   # Vanguard Information Technology ETF\n",
    "]\n"
   ]
  },
  {
   "cell_type": "code",
   "execution_count": 4,
   "metadata": {},
   "outputs": [
    {
     "name": "stderr",
     "output_type": "stream",
     "text": [
      "[*********************100%***********************]  1 of 1 completed\n"
     ]
    },
    {
     "name": "stdout",
     "output_type": "stream",
     "text": [
      "Completed: AAPL\n"
     ]
    },
    {
     "name": "stderr",
     "output_type": "stream",
     "text": [
      "[*********************100%***********************]  1 of 1 completed\n"
     ]
    },
    {
     "name": "stdout",
     "output_type": "stream",
     "text": [
      "Completed: MSFT\n"
     ]
    },
    {
     "name": "stderr",
     "output_type": "stream",
     "text": [
      "[*********************100%***********************]  1 of 1 completed\n"
     ]
    },
    {
     "name": "stdout",
     "output_type": "stream",
     "text": [
      "Completed: GOOGL\n"
     ]
    },
    {
     "name": "stderr",
     "output_type": "stream",
     "text": [
      "[*********************100%***********************]  1 of 1 completed\n"
     ]
    },
    {
     "name": "stdout",
     "output_type": "stream",
     "text": [
      "Completed: AMZN\n"
     ]
    },
    {
     "name": "stderr",
     "output_type": "stream",
     "text": [
      "[*********************100%***********************]  1 of 1 completed\n"
     ]
    },
    {
     "name": "stdout",
     "output_type": "stream",
     "text": [
      "Completed: META\n"
     ]
    },
    {
     "name": "stderr",
     "output_type": "stream",
     "text": [
      "[*********************100%***********************]  1 of 1 completed\n"
     ]
    },
    {
     "name": "stdout",
     "output_type": "stream",
     "text": [
      "Completed: SONY\n"
     ]
    },
    {
     "name": "stderr",
     "output_type": "stream",
     "text": [
      "[*********************100%***********************]  1 of 1 completed\n"
     ]
    },
    {
     "name": "stdout",
     "output_type": "stream",
     "text": [
      "Completed: 6758.T\n"
     ]
    },
    {
     "name": "stderr",
     "output_type": "stream",
     "text": [
      "[*********************100%***********************]  1 of 1 completed\n"
     ]
    },
    {
     "name": "stdout",
     "output_type": "stream",
     "text": [
      "Completed: 2330.TW\n"
     ]
    },
    {
     "name": "stderr",
     "output_type": "stream",
     "text": [
      "[*********************100%***********************]  1 of 1 completed\n"
     ]
    },
    {
     "name": "stdout",
     "output_type": "stream",
     "text": [
      "Completed: QCOM\n"
     ]
    },
    {
     "name": "stderr",
     "output_type": "stream",
     "text": [
      "[*********************100%***********************]  1 of 1 completed\n"
     ]
    },
    {
     "name": "stdout",
     "output_type": "stream",
     "text": [
      "Completed: AVGO\n"
     ]
    },
    {
     "name": "stderr",
     "output_type": "stream",
     "text": [
      "[*********************100%***********************]  1 of 1 completed\n"
     ]
    },
    {
     "name": "stdout",
     "output_type": "stream",
     "text": [
      "Completed: 005930.KS\n"
     ]
    },
    {
     "name": "stderr",
     "output_type": "stream",
     "text": [
      "[*********************100%***********************]  1 of 1 completed\n"
     ]
    },
    {
     "name": "stdout",
     "output_type": "stream",
     "text": [
      "Completed: GLW\n"
     ]
    },
    {
     "name": "stderr",
     "output_type": "stream",
     "text": [
      "[*********************100%***********************]  1 of 1 completed\n"
     ]
    },
    {
     "name": "stdout",
     "output_type": "stream",
     "text": [
      "Completed: 2317.TW\n"
     ]
    },
    {
     "name": "stderr",
     "output_type": "stream",
     "text": [
      "[*********************100%***********************]  1 of 1 completed\n",
      "[*********************100%***********************]  1 of 1 completed\n"
     ]
    },
    {
     "name": "stdout",
     "output_type": "stream",
     "text": [
      "Completed: 002475.SZ\n"
     ]
    },
    {
     "name": "stderr",
     "output_type": "stream",
     "text": [
      "[*********************100%***********************]  1 of 1 completed\n"
     ]
    },
    {
     "name": "stdout",
     "output_type": "stream",
     "text": [
      "Completed: BABA\n",
      "Completed: 1810.HK\n"
     ]
    },
    {
     "name": "stderr",
     "output_type": "stream",
     "text": [
      "[*********************100%***********************]  1 of 1 completed\n"
     ]
    },
    {
     "name": "stdout",
     "output_type": "stream",
     "text": [
      "Completed: BBY\n"
     ]
    },
    {
     "name": "stderr",
     "output_type": "stream",
     "text": [
      "[*********************100%***********************]  1 of 1 completed\n"
     ]
    },
    {
     "name": "stdout",
     "output_type": "stream",
     "text": [
      "Completed: WMT\n"
     ]
    },
    {
     "name": "stderr",
     "output_type": "stream",
     "text": [
      "[*********************100%***********************]  1 of 1 completed\n"
     ]
    },
    {
     "name": "stdout",
     "output_type": "stream",
     "text": [
      "Completed: SPY\n"
     ]
    },
    {
     "name": "stderr",
     "output_type": "stream",
     "text": [
      "[*********************100%***********************]  1 of 1 completed\n"
     ]
    },
    {
     "name": "stdout",
     "output_type": "stream",
     "text": [
      "Completed: QQQ\n"
     ]
    },
    {
     "name": "stderr",
     "output_type": "stream",
     "text": [
      "[*********************100%***********************]  1 of 1 completed"
     ]
    },
    {
     "name": "stdout",
     "output_type": "stream",
     "text": [
      "Completed: VGT\n"
     ]
    },
    {
     "name": "stderr",
     "output_type": "stream",
     "text": [
      "\n"
     ]
    }
   ],
   "source": [
    "# 保存先のディレクトリ\n",
    "save_dir = \"Stock_DATA\"  # 保存するディレクトリ名\n",
    "os.makedirs(save_dir, exist_ok=True)  # ディレクトリがなければ作成\n",
    "\n",
    "# 各銘柄のデータを取得して保存\n",
    "for ticker in tickers:\n",
    "\n",
    "    data = yf.download(ticker, start=\"1999-12-29\", end=\"2024-01-03\")  # 期間を指定\n",
    "\n",
    "    # データが空かどうかをチェック\n",
    "    if data.empty:\n",
    "        print(f\"No data found for {ticker}, skipping...\")\n",
    "        continue  # データが空なら次の銘柄に進む\n",
    "\n",
    "    # 日付をYYYY-MM-DD形式に変換\n",
    "    data.reset_index(inplace=True)  # インデックス（日付）を列に変換\n",
    "    data['Date'] = data['Date'].dt.strftime('%Y-%m-%d')  # 日付をYYYY-MM-DD形式に変換\n",
    "\n",
    "    # 必要な列のみを残す\n",
    "    data = data[['Date', 'Open', 'High', 'Low', 'Close', 'Adj Close', 'Volume']]\n",
    "\n",
    "    data.columns = [col[0] for col in data.columns]\n",
    "\n",
    "    # CSVファイルとして保存（インデックスとして日付を含めて保存）\n",
    "    file_path = os.path.join(save_dir, f\"{ticker}.csv\")\n",
    "    data.to_csv(file_path, index=False)  # index=Falseでインデックスは保存しない\n",
    "\n",
    "    print(f\"Completed: {ticker}\")"
   ]
  },
  {
   "cell_type": "code",
   "execution_count": 11,
   "metadata": {},
   "outputs": [
    {
     "name": "stderr",
     "output_type": "stream",
     "text": [
      "/var/folders/nz/pdh3wbl139nfbnd6j9xbwx300000gn/T/ipykernel_81409/883697039.py:29: FutureWarning: Downcasting object dtype arrays on .fillna, .ffill, .bfill is deprecated and will change in a future version. Call result.infer_objects(copy=False) instead. To opt-in to the future behavior, set `pd.set_option('future.no_silent_downcasting', True)`\n",
      "  data.ffill(inplace=True)  # 前方向補完\n"
     ]
    }
   ],
   "source": [
    "save_dir = \"Formatted_DATA\"  # 保存するディレクトリ名\n",
    "\n",
    "folder_path = \"Stock_DATA\"  # フォルダのパス\n",
    "file_list = os.listdir(folder_path)  # フォルダ内のファイルリスト\n",
    "\n",
    "for file in file_list:\n",
    "    # CSVファイルの読み込み\n",
    "    file_path = f\"{folder_path}/{file}\"  # 保存されたCSVファイルのパス\n",
    "    data = pd.read_csv(file_path)\n",
    "\n",
    "    # Dateカラムを日付型に変換\n",
    "    data['Date'] = pd.to_datetime(data['Date'], errors='coerce')\n",
    "\n",
    "    # 最小の日付を取得\n",
    "    min_date = data['Date'].min()\n",
    "\n",
    "    # 2000-01-01から2024-01-01の範囲の日付を作成\n",
    "    start_date = pd.to_datetime(\"2000-01-01\")\n",
    "    end_date = pd.to_datetime(\"2024-01-01\")\n",
    "    full_date_range = pd.date_range(start=start_date, end=end_date, freq='D')\n",
    "\n",
    "    # DataFrameのインデックスをDateに設定\n",
    "    data.set_index('Date', inplace=True)\n",
    "\n",
    "    # 欠損している日付を補完（再インデックスして補完）\n",
    "    data = data.reindex(full_date_range)\n",
    "\n",
    "    # 欠損値の補完（前方向補完、後方向補完、線形補完など）\n",
    "    data.ffill(inplace=True)  # 前方向補完\n",
    "    data.bfill(inplace=True)  # 後方向補完\n",
    "    data.interpolate(method='linear', inplace=True)  # 線形補完\n",
    "\n",
    "    # インデックスを日付から列に戻す\n",
    "    data.reset_index(inplace=True)\n",
    "    data.rename(columns={'index': 'Date'}, inplace=True)\n",
    "\n",
    "    # 最小の日付より前の行のデータを0にする\n",
    "    data.loc[data['Date'] < min_date, ['Open', 'High', 'Low', 'Close', 'Adj Close', 'Volume']] = 0\n",
    "\n",
    "    # 修正後のデータを新しいCSVファイルに保存\n",
    "    output_file_path = f\"{save_dir}/{file}\"\n",
    "    data.to_csv(output_file_path, index=False)"
   ]
  },
  {
   "cell_type": "code",
   "execution_count": null,
   "metadata": {},
   "outputs": [],
   "source": [
    "# 指数データを取得（例: S&P500）\n",
    "sp500_data = yf.download(\"^GSPC\", start=\"2000-01-01\", end=\"2024-01-01\")\n",
    "\n",
    "print(sp500_data)"
   ]
  },
  {
   "cell_type": "code",
   "execution_count": null,
   "metadata": {},
   "outputs": [],
   "source": [
    "# 取得する通貨ペア（EUR/USD）\n",
    "currency_pair = 'EURUSD=X'\n",
    "\n",
    "# 1年間の為替データを取得\n",
    "data = yf.download(currency_pair, start=\"2000-01-01\", end=\"2024-01-01\")\n",
    "\n",
    "# 取得したデータを表示\n",
    "print(data)\n"
   ]
  },
  {
   "cell_type": "code",
   "execution_count": null,
   "metadata": {},
   "outputs": [],
   "source": [
    "# 米国10年国債利回りのティッカーシンボル\n",
    "bond_ticker = '^TNX'\n",
    "\n",
    "# 1年間の国債利回りデータを取得\n",
    "data = yf.download(bond_ticker, start=\"2000-01-01\", end=\"2024-01-01\")\n",
    "\n",
    "# データを表示\n",
    "print(data)\n"
   ]
  }
 ],
 "metadata": {
  "kernelspec": {
   "display_name": "Python 3",
   "language": "python",
   "name": "python3"
  },
  "language_info": {
   "codemirror_mode": {
    "name": "ipython",
    "version": 3
   },
   "file_extension": ".py",
   "mimetype": "text/x-python",
   "name": "python",
   "nbconvert_exporter": "python",
   "pygments_lexer": "ipython3",
   "version": "3.12.5"
  }
 },
 "nbformat": 4,
 "nbformat_minor": 2
}
