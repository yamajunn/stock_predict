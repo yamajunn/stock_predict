{
 "cells": [
  {
   "cell_type": "code",
   "execution_count": 35,
   "metadata": {},
   "outputs": [],
   "source": [
    "import yfinance as yf"
   ]
  },
  {
   "cell_type": "markdown",
   "metadata": {},
   "source": [
    "株価データ"
   ]
  },
  {
   "cell_type": "code",
   "execution_count": 36,
   "metadata": {},
   "outputs": [
    {
     "name": "stderr",
     "output_type": "stream",
     "text": [
      "[*********************100%***********************]  1 of 1 completed\n"
     ]
    },
    {
     "name": "stdout",
     "output_type": "stream",
     "text": [
      "Price                      Adj Close      Close       High        Low  \\\n",
      "Ticker                          AAPL       AAPL       AAPL       AAPL   \n",
      "Date                                                                    \n",
      "2018-01-02 00:00:00+00:00  40.524338  43.064999  43.075001  42.314999   \n",
      "2018-01-03 00:00:00+00:00  40.517288  43.057499  43.637501  42.990002   \n",
      "2018-01-04 00:00:00+00:00  40.705486  43.257500  43.367500  43.020000   \n",
      "2018-01-05 00:00:00+00:00  41.168930  43.750000  43.842499  43.262501   \n",
      "2018-01-08 00:00:00+00:00  41.016022  43.587502  43.902500  43.482498   \n",
      "\n",
      "Price                           Open     Volume  \n",
      "Ticker                          AAPL       AAPL  \n",
      "Date                                             \n",
      "2018-01-02 00:00:00+00:00  42.540001  102223600  \n",
      "2018-01-03 00:00:00+00:00  43.132500  118071600  \n",
      "2018-01-04 00:00:00+00:00  43.134998   89738400  \n",
      "2018-01-05 00:00:00+00:00  43.360001   94640000  \n",
      "2018-01-08 00:00:00+00:00  43.587502   82271200  \n",
      "Dividends:\n",
      " Date\n",
      "1987-05-11 00:00:00-04:00    0.000536\n",
      "1987-08-10 00:00:00-04:00    0.000536\n",
      "1987-11-17 00:00:00-05:00    0.000714\n",
      "1988-02-12 00:00:00-05:00    0.000714\n",
      "1988-05-16 00:00:00-04:00    0.000714\n",
      "                               ...   \n",
      "2023-11-10 00:00:00-05:00    0.240000\n",
      "2024-02-09 00:00:00-05:00    0.240000\n",
      "2024-05-10 00:00:00-04:00    0.250000\n",
      "2024-08-12 00:00:00-04:00    0.250000\n",
      "2024-11-08 00:00:00-05:00    0.250000\n",
      "Name: Dividends, Length: 85, dtype: float64\n",
      "Splits:\n",
      " Date\n",
      "1987-06-16 00:00:00-04:00    2.0\n",
      "2000-06-21 00:00:00-04:00    2.0\n",
      "2005-02-28 00:00:00-05:00    2.0\n",
      "2014-06-09 00:00:00-04:00    7.0\n",
      "2020-08-31 00:00:00-04:00    4.0\n",
      "Name: Stock Splits, dtype: float64\n"
     ]
    }
   ],
   "source": [
    "# 株式銘柄のティッカー（例: AAPL = Apple）\n",
    "ticker = \"AAPL\"\n",
    "\n",
    "# ヒストリカルデータを取得\n",
    "data = yf.download(ticker, start=\"2018-01-01\", end=\"2023-01-01\")\n",
    "\n",
    "# 配当データを取得\n",
    "dividends = yf.Ticker(ticker).dividends\n",
    "\n",
    "# 株式分割情報を取得\n",
    "splits = yf.Ticker(ticker).splits\n",
    "\n",
    "print(data.head())\n",
    "print(\"Dividends:\\n\", dividends)\n",
    "print(\"Splits:\\n\", splits)\n"
   ]
  },
  {
   "cell_type": "code",
   "execution_count": 37,
   "metadata": {},
   "outputs": [
    {
     "name": "stderr",
     "output_type": "stream",
     "text": [
      "[*********************100%***********************]  1 of 1 completed"
     ]
    },
    {
     "name": "stdout",
     "output_type": "stream",
     "text": [
      "Price                        Adj Close        Close         High          Low  \\\n",
      "Ticker                           ^GSPC        ^GSPC        ^GSPC        ^GSPC   \n",
      "Date                                                                            \n",
      "2018-01-02 00:00:00+00:00  2695.810059  2695.810059  2695.889893  2682.360107   \n",
      "2018-01-03 00:00:00+00:00  2713.060059  2713.060059  2714.370117  2697.770020   \n",
      "2018-01-04 00:00:00+00:00  2723.989990  2723.989990  2729.290039  2719.070068   \n",
      "2018-01-05 00:00:00+00:00  2743.149902  2743.149902  2743.449951  2727.919922   \n",
      "2018-01-08 00:00:00+00:00  2747.709961  2747.709961  2748.510010  2737.600098   \n",
      "\n",
      "Price                             Open      Volume  \n",
      "Ticker                           ^GSPC       ^GSPC  \n",
      "Date                                                \n",
      "2018-01-02 00:00:00+00:00  2683.729980  3397430000  \n",
      "2018-01-03 00:00:00+00:00  2697.850098  3544030000  \n",
      "2018-01-04 00:00:00+00:00  2719.310059  3697340000  \n",
      "2018-01-05 00:00:00+00:00  2731.330078  3239280000  \n",
      "2018-01-08 00:00:00+00:00  2742.669922  3246160000  \n"
     ]
    },
    {
     "name": "stderr",
     "output_type": "stream",
     "text": [
      "\n"
     ]
    }
   ],
   "source": [
    "# 指数データを取得（例: S&P500）\n",
    "sp500_data = yf.download(\"^GSPC\", start=\"2018-01-01\", end=\"2023-01-01\")\n",
    "\n",
    "print(sp500_data.head())"
   ]
  }
 ],
 "metadata": {
  "kernelspec": {
   "display_name": "Python 3",
   "language": "python",
   "name": "python3"
  },
  "language_info": {
   "codemirror_mode": {
    "name": "ipython",
    "version": 3
   },
   "file_extension": ".py",
   "mimetype": "text/x-python",
   "name": "python",
   "nbconvert_exporter": "python",
   "pygments_lexer": "ipython3",
   "version": "3.12.5"
  }
 },
 "nbformat": 4,
 "nbformat_minor": 2
}
